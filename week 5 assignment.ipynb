{
 "cells": [
  {
   "cell_type": "code",
   "execution_count": 2,
   "id": "d885768d",
   "metadata": {},
   "outputs": [],
   "source": [
    "import pandas as pd\n",
    "import numpy as np \n",
    "from functools import reduce"
   ]
  },
  {
   "cell_type": "code",
   "execution_count": 3,
   "id": "9fb41c19",
   "metadata": {},
   "outputs": [],
   "source": [
    "dataset = pd.read_csv(\"airlines.csv\")"
   ]
  },
  {
   "cell_type": "code",
   "execution_count": 4,
   "id": "d345b695",
   "metadata": {},
   "outputs": [
    {
     "data": {
      "text/html": [
       "<div>\n",
       "<style scoped>\n",
       "    .dataframe tbody tr th:only-of-type {\n",
       "        vertical-align: middle;\n",
       "    }\n",
       "\n",
       "    .dataframe tbody tr th {\n",
       "        vertical-align: top;\n",
       "    }\n",
       "\n",
       "    .dataframe thead th {\n",
       "        text-align: right;\n",
       "    }\n",
       "</style>\n",
       "<table border=\"1\" class=\"dataframe\">\n",
       "  <thead>\n",
       "    <tr style=\"text-align: right;\">\n",
       "      <th></th>\n",
       "      <th>carrier</th>\n",
       "      <th>name</th>\n",
       "    </tr>\n",
       "  </thead>\n",
       "  <tbody>\n",
       "    <tr>\n",
       "      <th>0</th>\n",
       "      <td>9E</td>\n",
       "      <td>Endeavor Air Inc.</td>\n",
       "    </tr>\n",
       "    <tr>\n",
       "      <th>1</th>\n",
       "      <td>AA</td>\n",
       "      <td>American Airlines Inc.</td>\n",
       "    </tr>\n",
       "    <tr>\n",
       "      <th>2</th>\n",
       "      <td>AS</td>\n",
       "      <td>Alaska Airlines Inc.</td>\n",
       "    </tr>\n",
       "    <tr>\n",
       "      <th>3</th>\n",
       "      <td>B6</td>\n",
       "      <td>JetBlue Airways</td>\n",
       "    </tr>\n",
       "    <tr>\n",
       "      <th>4</th>\n",
       "      <td>DL</td>\n",
       "      <td>Delta Air Lines Inc.</td>\n",
       "    </tr>\n",
       "  </tbody>\n",
       "</table>\n",
       "</div>"
      ],
      "text/plain": [
       "  carrier                    name\n",
       "0      9E       Endeavor Air Inc.\n",
       "1      AA  American Airlines Inc.\n",
       "2      AS    Alaska Airlines Inc.\n",
       "3      B6         JetBlue Airways\n",
       "4      DL    Delta Air Lines Inc."
      ]
     },
     "execution_count": 4,
     "metadata": {},
     "output_type": "execute_result"
    }
   ],
   "source": [
    "dataset.head()"
   ]
  },
  {
   "cell_type": "code",
   "execution_count": 5,
   "id": "17746ab2",
   "metadata": {},
   "outputs": [],
   "source": [
    "dataset = pd.read_csv(\"flights.csv\")"
   ]
  },
  {
   "cell_type": "code",
   "execution_count": 6,
   "id": "a676a6a5",
   "metadata": {},
   "outputs": [
    {
     "data": {
      "text/html": [
       "<div>\n",
       "<style scoped>\n",
       "    .dataframe tbody tr th:only-of-type {\n",
       "        vertical-align: middle;\n",
       "    }\n",
       "\n",
       "    .dataframe tbody tr th {\n",
       "        vertical-align: top;\n",
       "    }\n",
       "\n",
       "    .dataframe thead th {\n",
       "        text-align: right;\n",
       "    }\n",
       "</style>\n",
       "<table border=\"1\" class=\"dataframe\">\n",
       "  <thead>\n",
       "    <tr style=\"text-align: right;\">\n",
       "      <th></th>\n",
       "      <th>year</th>\n",
       "      <th>month</th>\n",
       "      <th>day</th>\n",
       "      <th>dep_time</th>\n",
       "      <th>dep_delay</th>\n",
       "      <th>arr_time</th>\n",
       "      <th>arr_delay</th>\n",
       "      <th>carrier</th>\n",
       "      <th>tailnum</th>\n",
       "      <th>flight</th>\n",
       "      <th>origin</th>\n",
       "      <th>dest</th>\n",
       "      <th>air_time</th>\n",
       "      <th>distance</th>\n",
       "      <th>hour</th>\n",
       "      <th>minute</th>\n",
       "    </tr>\n",
       "  </thead>\n",
       "  <tbody>\n",
       "    <tr>\n",
       "      <th>0</th>\n",
       "      <td>2013</td>\n",
       "      <td>1</td>\n",
       "      <td>1</td>\n",
       "      <td>517.0</td>\n",
       "      <td>2.0</td>\n",
       "      <td>830.0</td>\n",
       "      <td>11.0</td>\n",
       "      <td>UA</td>\n",
       "      <td>N14228</td>\n",
       "      <td>1545</td>\n",
       "      <td>EWR</td>\n",
       "      <td>IAH</td>\n",
       "      <td>227.0</td>\n",
       "      <td>1400</td>\n",
       "      <td>5.0</td>\n",
       "      <td>17.0</td>\n",
       "    </tr>\n",
       "    <tr>\n",
       "      <th>1</th>\n",
       "      <td>2013</td>\n",
       "      <td>1</td>\n",
       "      <td>1</td>\n",
       "      <td>533.0</td>\n",
       "      <td>4.0</td>\n",
       "      <td>850.0</td>\n",
       "      <td>20.0</td>\n",
       "      <td>UA</td>\n",
       "      <td>N24211</td>\n",
       "      <td>1714</td>\n",
       "      <td>LGA</td>\n",
       "      <td>IAH</td>\n",
       "      <td>227.0</td>\n",
       "      <td>1416</td>\n",
       "      <td>5.0</td>\n",
       "      <td>33.0</td>\n",
       "    </tr>\n",
       "    <tr>\n",
       "      <th>2</th>\n",
       "      <td>2013</td>\n",
       "      <td>1</td>\n",
       "      <td>1</td>\n",
       "      <td>542.0</td>\n",
       "      <td>2.0</td>\n",
       "      <td>923.0</td>\n",
       "      <td>33.0</td>\n",
       "      <td>AA</td>\n",
       "      <td>N619AA</td>\n",
       "      <td>1141</td>\n",
       "      <td>JFK</td>\n",
       "      <td>MIA</td>\n",
       "      <td>160.0</td>\n",
       "      <td>1089</td>\n",
       "      <td>5.0</td>\n",
       "      <td>42.0</td>\n",
       "    </tr>\n",
       "    <tr>\n",
       "      <th>3</th>\n",
       "      <td>2013</td>\n",
       "      <td>1</td>\n",
       "      <td>1</td>\n",
       "      <td>544.0</td>\n",
       "      <td>-1.0</td>\n",
       "      <td>1004.0</td>\n",
       "      <td>-18.0</td>\n",
       "      <td>B6</td>\n",
       "      <td>N804JB</td>\n",
       "      <td>725</td>\n",
       "      <td>JFK</td>\n",
       "      <td>BQN</td>\n",
       "      <td>183.0</td>\n",
       "      <td>1576</td>\n",
       "      <td>5.0</td>\n",
       "      <td>44.0</td>\n",
       "    </tr>\n",
       "    <tr>\n",
       "      <th>4</th>\n",
       "      <td>2013</td>\n",
       "      <td>1</td>\n",
       "      <td>1</td>\n",
       "      <td>554.0</td>\n",
       "      <td>-6.0</td>\n",
       "      <td>812.0</td>\n",
       "      <td>-25.0</td>\n",
       "      <td>DL</td>\n",
       "      <td>N668DN</td>\n",
       "      <td>461</td>\n",
       "      <td>LGA</td>\n",
       "      <td>ATL</td>\n",
       "      <td>116.0</td>\n",
       "      <td>762</td>\n",
       "      <td>5.0</td>\n",
       "      <td>54.0</td>\n",
       "    </tr>\n",
       "  </tbody>\n",
       "</table>\n",
       "</div>"
      ],
      "text/plain": [
       "   year  month  day  dep_time  dep_delay  arr_time  arr_delay carrier tailnum  \\\n",
       "0  2013      1    1     517.0        2.0     830.0       11.0      UA  N14228   \n",
       "1  2013      1    1     533.0        4.0     850.0       20.0      UA  N24211   \n",
       "2  2013      1    1     542.0        2.0     923.0       33.0      AA  N619AA   \n",
       "3  2013      1    1     544.0       -1.0    1004.0      -18.0      B6  N804JB   \n",
       "4  2013      1    1     554.0       -6.0     812.0      -25.0      DL  N668DN   \n",
       "\n",
       "   flight origin dest  air_time  distance  hour  minute  \n",
       "0    1545    EWR  IAH     227.0      1400   5.0    17.0  \n",
       "1    1714    LGA  IAH     227.0      1416   5.0    33.0  \n",
       "2    1141    JFK  MIA     160.0      1089   5.0    42.0  \n",
       "3     725    JFK  BQN     183.0      1576   5.0    44.0  \n",
       "4     461    LGA  ATL     116.0       762   5.0    54.0  "
      ]
     },
     "execution_count": 6,
     "metadata": {},
     "output_type": "execute_result"
    }
   ],
   "source": [
    "dataset.head()"
   ]
  },
  {
   "cell_type": "code",
   "execution_count": 7,
   "id": "3862b85d",
   "metadata": {},
   "outputs": [],
   "source": [
    "df1 = pd.read_csv(\"airlines.csv\")\n",
    "df2 = pd.read_csv(\"flights.csv\")\n"
   ]
  },
  {
   "cell_type": "code",
   "execution_count": 8,
   "id": "91e8bfe8",
   "metadata": {},
   "outputs": [
    {
     "data": {
      "text/plain": [
       "<bound method DataFrame.info of    carrier                         name\n",
       "0       9E            Endeavor Air Inc.\n",
       "1       AA       American Airlines Inc.\n",
       "2       AS         Alaska Airlines Inc.\n",
       "3       B6              JetBlue Airways\n",
       "4       DL         Delta Air Lines Inc.\n",
       "5       EV     ExpressJet Airlines Inc.\n",
       "6       F9       Frontier Airlines Inc.\n",
       "7       FL  AirTran Airways Corporation\n",
       "8       HA       Hawaiian Airlines Inc.\n",
       "9       MQ                    Envoy Air\n",
       "10      OO        SkyWest Airlines Inc.\n",
       "11      UA        United Air Lines Inc.\n",
       "12      US              US Airways Inc.\n",
       "13      VX               Virgin America\n",
       "14      WN       Southwest Airlines Co.\n",
       "15      YV           Mesa Airlines Inc.>"
      ]
     },
     "execution_count": 8,
     "metadata": {},
     "output_type": "execute_result"
    }
   ],
   "source": [
    "df1.info"
   ]
  },
  {
   "cell_type": "code",
   "execution_count": 9,
   "id": "ec8c3234",
   "metadata": {},
   "outputs": [
    {
     "data": {
      "text/plain": [
       "[RangeIndex(start=0, stop=16, step=1),\n",
       " Index(['carrier', 'name'], dtype='object')]"
      ]
     },
     "execution_count": 9,
     "metadata": {},
     "output_type": "execute_result"
    }
   ],
   "source": [
    "df1.axes"
   ]
  },
  {
   "cell_type": "code",
   "execution_count": 10,
   "id": "eda8c66f",
   "metadata": {},
   "outputs": [
    {
     "name": "stdout",
     "output_type": "stream",
     "text": [
      "       carrier                    name  year  month  day  dep_time  dep_delay  \\\n",
      "0           UA   United Air Lines Inc.  2013      1    1     517.0        2.0   \n",
      "1           UA   United Air Lines Inc.  2013      1    1     533.0        4.0   \n",
      "2           AA  American Airlines Inc.  2013      1    1     542.0        2.0   \n",
      "3           B6         JetBlue Airways  2013      1    1     544.0       -1.0   \n",
      "4           DL    Delta Air Lines Inc.  2013      1    1     554.0       -6.0   \n",
      "...        ...                     ...   ...    ...  ...       ...        ...   \n",
      "336771      9E       Endeavor Air Inc.  2013      9   30       NaN        NaN   \n",
      "336772      9E       Endeavor Air Inc.  2013      9   30       NaN        NaN   \n",
      "336773      MQ               Envoy Air  2013      9   30       NaN        NaN   \n",
      "336774      MQ               Envoy Air  2013      9   30       NaN        NaN   \n",
      "336775      MQ               Envoy Air  2013      9   30       NaN        NaN   \n",
      "\n",
      "        arr_time  arr_delay tailnum  flight origin dest  air_time  distance  \\\n",
      "0          830.0       11.0  N14228    1545    EWR  IAH     227.0      1400   \n",
      "1          850.0       20.0  N24211    1714    LGA  IAH     227.0      1416   \n",
      "2          923.0       33.0  N619AA    1141    JFK  MIA     160.0      1089   \n",
      "3         1004.0      -18.0  N804JB     725    JFK  BQN     183.0      1576   \n",
      "4          812.0      -25.0  N668DN     461    LGA  ATL     116.0       762   \n",
      "...          ...        ...     ...     ...    ...  ...       ...       ...   \n",
      "336771       NaN        NaN            3393    JFK  DCA       NaN       213   \n",
      "336772       NaN        NaN            3525    LGA  SYR       NaN       198   \n",
      "336773       NaN        NaN  N535MQ    3461    LGA  BNA       NaN       764   \n",
      "336774       NaN        NaN  N511MQ    3572    LGA  CLE       NaN       419   \n",
      "336775       NaN        NaN  N839MQ    3531    LGA  RDU       NaN       431   \n",
      "\n",
      "        hour  minute  \n",
      "0        5.0    17.0  \n",
      "1        5.0    33.0  \n",
      "2        5.0    42.0  \n",
      "3        5.0    44.0  \n",
      "4        5.0    54.0  \n",
      "...      ...     ...  \n",
      "336771   NaN     NaN  \n",
      "336772   NaN     NaN  \n",
      "336773   NaN     NaN  \n",
      "336774   NaN     NaN  \n",
      "336775   NaN     NaN  \n",
      "\n",
      "[336776 rows x 17 columns]\n"
     ]
    }
   ],
   "source": [
    "newdf = df1.merge(df2, how='right')\n",
    "print(newdf)"
   ]
  },
  {
   "cell_type": "code",
   "execution_count": 11,
   "id": "f8c80001",
   "metadata": {},
   "outputs": [],
   "source": [
    "newdf = df1.combine_first(other=df2)"
   ]
  },
  {
   "cell_type": "code",
   "execution_count": 12,
   "id": "8ac3a6b0",
   "metadata": {},
   "outputs": [],
   "source": [
    "df = reduce(lambda x, y: \n",
    " x.combine_first(y), \n",
    " [df1, df2])\n"
   ]
  },
  {
   "cell_type": "code",
   "execution_count": 13,
   "id": "765615d0",
   "metadata": {},
   "outputs": [
    {
     "name": "stdout",
     "output_type": "stream",
     "text": [
      "        air_time  arr_delay  arr_time carrier  day  dep_delay  dep_time dest  \\\n",
      "0          227.0       11.0     830.0      9E    1        2.0     517.0  IAH   \n",
      "1          227.0       20.0     850.0      AA    1        4.0     533.0  IAH   \n",
      "2          160.0       33.0     923.0      AS    1        2.0     542.0  MIA   \n",
      "3          183.0      -18.0    1004.0      B6    1       -1.0     544.0  BQN   \n",
      "4          116.0      -25.0     812.0      DL    1       -6.0     554.0  ATL   \n",
      "...          ...        ...       ...     ...  ...        ...       ...  ...   \n",
      "336771       NaN        NaN       NaN      9E   30        NaN       NaN  DCA   \n",
      "336772       NaN        NaN       NaN      9E   30        NaN       NaN  SYR   \n",
      "336773       NaN        NaN       NaN      MQ   30        NaN       NaN  BNA   \n",
      "336774       NaN        NaN       NaN      MQ   30        NaN       NaN  CLE   \n",
      "336775       NaN        NaN       NaN      MQ   30        NaN       NaN  RDU   \n",
      "\n",
      "        distance  flight  hour  minute  month                    name origin  \\\n",
      "0           1400    1545   5.0    17.0      1       Endeavor Air Inc.    EWR   \n",
      "1           1416    1714   5.0    33.0      1  American Airlines Inc.    LGA   \n",
      "2           1089    1141   5.0    42.0      1    Alaska Airlines Inc.    JFK   \n",
      "3           1576     725   5.0    44.0      1         JetBlue Airways    JFK   \n",
      "4            762     461   5.0    54.0      1    Delta Air Lines Inc.    LGA   \n",
      "...          ...     ...   ...     ...    ...                     ...    ...   \n",
      "336771       213    3393   NaN     NaN      9                     NaN    JFK   \n",
      "336772       198    3525   NaN     NaN      9                     NaN    LGA   \n",
      "336773       764    3461   NaN     NaN      9                     NaN    LGA   \n",
      "336774       419    3572   NaN     NaN      9                     NaN    LGA   \n",
      "336775       431    3531   NaN     NaN      9                     NaN    LGA   \n",
      "\n",
      "       tailnum  year  \n",
      "0       N14228  2013  \n",
      "1       N24211  2013  \n",
      "2       N619AA  2013  \n",
      "3       N804JB  2013  \n",
      "4       N668DN  2013  \n",
      "...        ...   ...  \n",
      "336771          2013  \n",
      "336772          2013  \n",
      "336773  N535MQ  2013  \n",
      "336774  N511MQ  2013  \n",
      "336775  N839MQ  2013  \n",
      "\n",
      "[336776 rows x 17 columns]\n"
     ]
    }
   ],
   "source": [
    "print(newdf)"
   ]
  },
  {
   "cell_type": "code",
   "execution_count": 14,
   "id": "22e8f952",
   "metadata": {},
   "outputs": [],
   "source": [
    "df3 = pd.read_csv(\"airports.csv\")\n",
    "df4 = pd.read_csv(\"planes.csv\")\n",
    "df5 = pd.read_csv(\"weather.csv\")"
   ]
  },
  {
   "cell_type": "code",
   "execution_count": 15,
   "id": "f42ee647",
   "metadata": {},
   "outputs": [
    {
     "name": "stdout",
     "output_type": "stream",
     "text": [
      "      faa                           name        lat         lon   alt  tz dst\n",
      "0     04G              Lansdowne Airport  41.130472  -80.619583  1044  -5   A\n",
      "1     06A  Moton Field Municipal Airport  32.460572  -85.680028   264  -5   A\n",
      "2     06C            Schaumburg Regional  41.989341  -88.101243   801  -6   A\n",
      "3     06N                Randall Airport  41.431912  -74.391561   523  -5   A\n",
      "4     09J          Jekyll Island Airport  31.074472  -81.427778    11  -4   A\n",
      "...   ...                            ...        ...         ...   ...  ..  ..\n",
      "1392  ZUN                     Black Rock  35.083228 -108.791778  6454  -7   A\n",
      "1393  ZVE         New Haven Rail Station  41.298669  -72.925992     7  -5   A\n",
      "1394  ZWI      Wilmington Amtrak Station  39.736667  -75.551667     0  -5   A\n",
      "1395  ZWU       Washington Union Station  38.897460  -77.006430    76  -5   A\n",
      "1396  ZYP                   Penn Station  40.750500  -73.993500    35  -5   A\n",
      "\n",
      "[1397 rows x 7 columns]\n"
     ]
    }
   ],
   "source": [
    "print(df3)"
   ]
  },
  {
   "cell_type": "markdown",
   "id": "1d192489",
   "metadata": {},
   "source": [
    "# Northernmost airports in the United States"
   ]
  },
  {
   "cell_type": "markdown",
   "id": "c1eed7f8",
   "metadata": {},
   "source": [
    "Some Northernmost cities in the United States are\n",
    "Albany,Amsterdam,Auburn,Batavia,Beacon etc."
   ]
  },
  {
   "cell_type": "code",
   "execution_count": 16,
   "id": "b43c07ca",
   "metadata": {},
   "outputs": [],
   "source": [
    "northernmost= ['Atmautluak Airport','Aniak Airport','Lake Hood Seaplane Base','Unalaska','Jack Northrop Fld Hawthorne Muni']"
   ]
  },
  {
   "cell_type": "code",
   "execution_count": 18,
   "id": "9dfbd801",
   "metadata": {},
   "outputs": [
    {
     "name": "stdout",
     "output_type": "stream",
     "text": [
      "['Atmautluak Airport', 'Aniak Airport', 'Lake Hood Seaplane Base', 'Unalaska', 'Jack Northrop Fld Hawthorne Muni']\n"
     ]
    }
   ],
   "source": [
    "print(northernmost)"
   ]
  },
  {
   "cell_type": "markdown",
   "id": "ec08c14b",
   "metadata": {},
   "source": [
    "#  Easternmost airports in the United States"
   ]
  },
  {
   "cell_type": "markdown",
   "id": "8776e6b1",
   "metadata": {},
   "source": [
    "Some Easternmost cities in the United States are New Haven,New York City,Newark,New Jersey,Newport News etc."
   ]
  },
  {
   "cell_type": "code",
   "execution_count": 19,
   "id": "7bc18875",
   "metadata": {},
   "outputs": [],
   "source": [
    "easternmost = ['Washington Dulles Intl','Bangor Intl','Block Island State Airport','Tulip City Airport','Georgetown County Airport']"
   ]
  },
  {
   "cell_type": "code",
   "execution_count": 20,
   "id": "1c3e896e",
   "metadata": {},
   "outputs": [
    {
     "name": "stdout",
     "output_type": "stream",
     "text": [
      "['Washington Dulles Intl', 'Bangor Intl', 'Block Island State Airport', 'Tulip City Airport', 'Georgetown County Airport']\n"
     ]
    }
   ],
   "source": [
    "print(easternmost)"
   ]
  },
  {
   "cell_type": "markdown",
   "id": "256a73bc",
   "metadata": {},
   "source": [
    "# Windiest weather in New York area airport"
   ]
  },
  {
   "cell_type": "markdown",
   "id": "edd57b9f",
   "metadata": {},
   "source": [
    "In February 2013 North American blizzard, also known as Winter Storm Nemo and the Blizzard of 2013. By February 8, the low-pressure system had moved into Georgia.[31] Both the system in the Gulf of Mexico and the system in the Midwestern United States were supported by the same shortwave trough. Due to blocking steering patterns, both storms began to gravitate towards the Eastern Seaboard.\n",
    "so accordng to my research Georgetown County Airport On February 12th,2013 had the windiest weather in New York area airport"
   ]
  }
 ],
 "metadata": {
  "kernelspec": {
   "display_name": "Python 3 (ipykernel)",
   "language": "python",
   "name": "python3"
  },
  "language_info": {
   "codemirror_mode": {
    "name": "ipython",
    "version": 3
   },
   "file_extension": ".py",
   "mimetype": "text/x-python",
   "name": "python",
   "nbconvert_exporter": "python",
   "pygments_lexer": "ipython3",
   "version": "3.10.6"
  }
 },
 "nbformat": 4,
 "nbformat_minor": 5
}
